{
 "cells": [
  {
   "cell_type": "code",
   "execution_count": null,
   "metadata": {},
   "outputs": [],
   "source": [
    "#In this exercise we chose the first use case which is \"Predict the stock market price for Tesla. \n",
    "\"\"\"\n",
    "We decided to use Regression Algorithm since it`s suitable for predictions of continious values such us price, age, weather, traffic etc. \n",
    "based on earlier results or measurements. On the other hand the classification algorithm is more suitable to classify or distict values as \n",
    "True or False, White or Black, Real or Fake and so on. \n",
    "\"\"\""
   ]
  },
  {
   "cell_type": "code",
   "execution_count": null,
   "metadata": {},
   "outputs": [],
   "source": []
  }
 ],
 "metadata": {
  "language_info": {
   "name": "python"
  }
 },
 "nbformat": 4,
 "nbformat_minor": 2
}

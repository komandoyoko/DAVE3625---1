{
 "cells": [
  {
   "cell_type": "code",
   "execution_count": 39,
   "id": "9e9ae710",
   "metadata": {},
   "outputs": [
    {
     "data": {
      "text/plain": [
       "'\\nimport pandas - a Python library for working with datasets. It has functions for analyzing, cleaning, exploring\\nand manipulating those. \\n\\nimport Faker - a Python library for creating fake datasets\\n\\nimport Laundromat - we use this library for anonymization of data in datasets\\n\\nimport datetime - using it for working with date and time in different formats \\n'"
      ]
     },
     "execution_count": 39,
     "metadata": {},
     "output_type": "execute_result"
    }
   ],
   "source": [
    "## Imports ## \n",
    "\"\"\"\n",
    "import pandas - a Python library for working with datasets. It has functions for analyzing, cleaning, exploring\n",
    "and manipulating those. \n",
    "\n",
    "import Faker - a Python library for creating fake datasets\n",
    "\n",
    "import Laundromat - we use this library for anonymization of data in datasets\n",
    "\n",
    "import datetime - using it for working with date and time in different formats \n",
    "\"\"\""
   ]
  },
  {
   "cell_type": "code",
   "execution_count": 40,
   "id": "c64aaefc",
   "metadata": {},
   "outputs": [],
   "source": [
    "from faker import Faker\n",
    "import pandas as pd\n",
    "#from laundromat.spacy.spacy_model import SpacyModel\n",
    "from faker.providers.credit_card import Provider as CreditCardProvider #Add creditcards to faker"
   ]
  },
  {
   "cell_type": "code",
   "execution_count": 41,
   "id": "6ca8e740",
   "metadata": {},
   "outputs": [],
   "source": [
    "fake = Faker(['no_NO']) #Create a faker with norwegian Names and structures"
   ]
  },
  {
   "cell_type": "code",
   "execution_count": 42,
   "id": "0c8131c4",
   "metadata": {},
   "outputs": [],
   "source": [
    "df = pd.DataFrame(columns=['Navn','Adresse','PersonNr', 'CreditCard', 'ipv4']) # Create a empty df"
   ]
  },
  {
   "cell_type": "code",
   "execution_count": 43,
   "id": "732f4ab4",
   "metadata": {},
   "outputs": [],
   "source": [
    "# A for loop that fills the df whith fake data such as name, address, snn, credit card number and IPv4\n",
    "for i in range(100):\n",
    "    row = fake.name(),fake.address(),fake.ssn(),fake.credit_card_number(),fake.ipv4()\n",
    "    df.loc[i]=row"
   ]
  },
  {
   "cell_type": "code",
   "execution_count": 44,
   "id": "66e55f1f",
   "metadata": {},
   "outputs": [
    {
     "data": {
      "text/html": [
       "<div>\n",
       "<style scoped>\n",
       "    .dataframe tbody tr th:only-of-type {\n",
       "        vertical-align: middle;\n",
       "    }\n",
       "\n",
       "    .dataframe tbody tr th {\n",
       "        vertical-align: top;\n",
       "    }\n",
       "\n",
       "    .dataframe thead th {\n",
       "        text-align: right;\n",
       "    }\n",
       "</style>\n",
       "<table border=\"1\" class=\"dataframe\">\n",
       "  <thead>\n",
       "    <tr style=\"text-align: right;\">\n",
       "      <th></th>\n",
       "      <th>Navn</th>\n",
       "      <th>Adresse</th>\n",
       "      <th>PersonNr</th>\n",
       "      <th>CreditCard</th>\n",
       "      <th>ipv4</th>\n",
       "    </tr>\n",
       "  </thead>\n",
       "  <tbody>\n",
       "    <tr>\n",
       "      <th>0</th>\n",
       "      <td>Marit-Mona Nilsen</td>\n",
       "      <td>Svendsenplassen 53, 4277 Irenefjell</td>\n",
       "      <td>19029308961</td>\n",
       "      <td>4264166599814845342</td>\n",
       "      <td>207.248.149.237</td>\n",
       "    </tr>\n",
       "    <tr>\n",
       "      <th>1</th>\n",
       "      <td>Petter-Lars Bakke</td>\n",
       "      <td>Hanssenkollen 4, 4579 Tveit</td>\n",
       "      <td>23115026410</td>\n",
       "      <td>4290133439763</td>\n",
       "      <td>159.253.25.246</td>\n",
       "    </tr>\n",
       "    <tr>\n",
       "      <th>2</th>\n",
       "      <td>Rune-Jon Andersen</td>\n",
       "      <td>Karlsenspranget 5, 4100 Christianodden</td>\n",
       "      <td>22128525495</td>\n",
       "      <td>4161351626984771</td>\n",
       "      <td>11.8.101.138</td>\n",
       "    </tr>\n",
       "    <tr>\n",
       "      <th>3</th>\n",
       "      <td>Hege Andersen</td>\n",
       "      <td>Henriksenberget 6B, 7062 Tangen</td>\n",
       "      <td>24124526082</td>\n",
       "      <td>4747211018005523</td>\n",
       "      <td>108.177.23.180</td>\n",
       "    </tr>\n",
       "    <tr>\n",
       "      <th>4</th>\n",
       "      <td>Kjersti-Irene Paulsen</td>\n",
       "      <td>Hanssenlyngen 8, 5355 Siriodden</td>\n",
       "      <td>22093831601</td>\n",
       "      <td>2293823332249579</td>\n",
       "      <td>147.186.151.153</td>\n",
       "    </tr>\n",
       "  </tbody>\n",
       "</table>\n",
       "</div>"
      ],
      "text/plain": [
       "                    Navn                                 Adresse     PersonNr  \\\n",
       "0      Marit-Mona Nilsen     Svendsenplassen 53, 4277 Irenefjell  19029308961   \n",
       "1      Petter-Lars Bakke             Hanssenkollen 4, 4579 Tveit  23115026410   \n",
       "2      Rune-Jon Andersen  Karlsenspranget 5, 4100 Christianodden  22128525495   \n",
       "3          Hege Andersen         Henriksenberget 6B, 7062 Tangen  24124526082   \n",
       "4  Kjersti-Irene Paulsen         Hanssenlyngen 8, 5355 Siriodden  22093831601   \n",
       "\n",
       "            CreditCard             ipv4  \n",
       "0  4264166599814845342  207.248.149.237  \n",
       "1        4290133439763   159.253.25.246  \n",
       "2     4161351626984771     11.8.101.138  \n",
       "3     4747211018005523   108.177.23.180  \n",
       "4     2293823332249579  147.186.151.153  "
      ]
     },
     "execution_count": 44,
     "metadata": {},
     "output_type": "execute_result"
    }
   ],
   "source": [
    "# Here we can see some of the data that was created\n",
    "df.head()"
   ]
  },
  {
   "cell_type": "code",
   "execution_count": 45,
   "id": "e1fe1d7b",
   "metadata": {},
   "outputs": [],
   "source": [
    "# Creating a list with values from the 10 first rows in the dataset\n",
    "textArray = [] \n",
    "for i in range(10):\n",
    "    row=df.iloc[i]\n",
    "    name = row[0] \n",
    "    adress = row[1]\n",
    "    ssn = row[2]\n",
    "    cc = row[3]\n",
    "    textArray.append(f'Hi, my name is {name}. I wonder if you deliver to {adress}, my visa is {cc} and my ssn is {ssn}')\n",
    "    "
   ]
  },
  {
   "cell_type": "code",
   "execution_count": 46,
   "id": "433ac4ac",
   "metadata": {},
   "outputs": [
    {
     "data": {
      "text/plain": [
       "'\\nThe next lines of code below is suppose to hide the personal information off the people\\nin the dataset, but due to issues with spacy we were not able to do this.\\n'"
      ]
     },
     "execution_count": 46,
     "metadata": {},
     "output_type": "execute_result"
    }
   ],
   "source": [
    "\"\"\"\n",
    "The next lines of code below is suppose to hide the personal information off the people\n",
    "in the dataset, but due to issues with spacy we were not able to do this.\n",
    "\"\"\""
   ]
  },
  {
   "cell_type": "code",
   "execution_count": 47,
   "id": "b7d549f3",
   "metadata": {},
   "outputs": [
    {
     "ename": "OSError",
     "evalue": "[E050] Can't find model 'nb_core_news_lg'. It doesn't seem to be a shortcut link, a Python package or a valid path to a data directory.",
     "output_type": "error",
     "traceback": [
      "\u001b[1;31m---------------------------------------------------------------------------\u001b[0m",
      "\u001b[1;31mOSError\u001b[0m                                   Traceback (most recent call last)",
      "Cell \u001b[1;32mIn[47], line 1\u001b[0m\n\u001b[1;32m----> 1\u001b[0m nlp \u001b[38;5;241m=\u001b[39m \u001b[43mSpacyModel\u001b[49m\u001b[43m(\u001b[49m\u001b[43m)\u001b[49m\n",
      "File \u001b[1;32m~\\anaconda3\\envs\\dave3625\\lib\\site-packages\\laundromat\\spacy\\spacy_model.py:32\u001b[0m, in \u001b[0;36mSpacyModel.__init__\u001b[1;34m(self, model_path)\u001b[0m\n\u001b[0;32m     30\u001b[0m \u001b[38;5;28;01mdef\u001b[39;00m \u001b[38;5;21m__init__\u001b[39m(\u001b[38;5;28mself\u001b[39m, model_path\u001b[38;5;241m=\u001b[39m\u001b[38;5;28;01mNone\u001b[39;00m):\n\u001b[0;32m     31\u001b[0m     \u001b[38;5;28;01mif\u001b[39;00m \u001b[38;5;129;01mnot\u001b[39;00m model_path:\n\u001b[1;32m---> 32\u001b[0m         \u001b[38;5;28mself\u001b[39m\u001b[38;5;241m.\u001b[39mmodel \u001b[38;5;241m=\u001b[39m \u001b[43mspacy\u001b[49m\u001b[38;5;241;43m.\u001b[39;49m\u001b[43mload\u001b[49m\u001b[43m(\u001b[49m\u001b[38;5;124;43m\"\u001b[39;49m\u001b[38;5;124;43mnb_core_news_lg\u001b[39;49m\u001b[38;5;124;43m\"\u001b[39;49m\u001b[43m)\u001b[49m\n\u001b[0;32m     33\u001b[0m     \u001b[38;5;28;01melse\u001b[39;00m:\n\u001b[0;32m     34\u001b[0m         \u001b[38;5;28mself\u001b[39m\u001b[38;5;241m.\u001b[39mmodel \u001b[38;5;241m=\u001b[39m spacy\u001b[38;5;241m.\u001b[39mload(model_path)\n",
      "File \u001b[1;32m~\\anaconda3\\envs\\dave3625\\lib\\site-packages\\spacy\\__init__.py:30\u001b[0m, in \u001b[0;36mload\u001b[1;34m(name, **overrides)\u001b[0m\n\u001b[0;32m     28\u001b[0m \u001b[38;5;28;01mif\u001b[39;00m depr_path \u001b[38;5;129;01mnot\u001b[39;00m \u001b[38;5;129;01min\u001b[39;00m (\u001b[38;5;28;01mTrue\u001b[39;00m, \u001b[38;5;28;01mFalse\u001b[39;00m, \u001b[38;5;28;01mNone\u001b[39;00m):\n\u001b[0;32m     29\u001b[0m     warnings\u001b[38;5;241m.\u001b[39mwarn(Warnings\u001b[38;5;241m.\u001b[39mW001\u001b[38;5;241m.\u001b[39mformat(path\u001b[38;5;241m=\u001b[39mdepr_path), \u001b[38;5;167;01mDeprecationWarning\u001b[39;00m)\n\u001b[1;32m---> 30\u001b[0m \u001b[38;5;28;01mreturn\u001b[39;00m \u001b[43mutil\u001b[49m\u001b[38;5;241;43m.\u001b[39;49m\u001b[43mload_model\u001b[49m\u001b[43m(\u001b[49m\u001b[43mname\u001b[49m\u001b[43m,\u001b[49m\u001b[43m \u001b[49m\u001b[38;5;241;43m*\u001b[39;49m\u001b[38;5;241;43m*\u001b[39;49m\u001b[43moverrides\u001b[49m\u001b[43m)\u001b[49m\n",
      "File \u001b[1;32m~\\anaconda3\\envs\\dave3625\\lib\\site-packages\\spacy\\util.py:175\u001b[0m, in \u001b[0;36mload_model\u001b[1;34m(name, **overrides)\u001b[0m\n\u001b[0;32m    173\u001b[0m \u001b[38;5;28;01melif\u001b[39;00m \u001b[38;5;28mhasattr\u001b[39m(name, \u001b[38;5;124m\"\u001b[39m\u001b[38;5;124mexists\u001b[39m\u001b[38;5;124m\"\u001b[39m):  \u001b[38;5;66;03m# Path or Path-like to model data\u001b[39;00m\n\u001b[0;32m    174\u001b[0m     \u001b[38;5;28;01mreturn\u001b[39;00m load_model_from_path(name, \u001b[38;5;241m*\u001b[39m\u001b[38;5;241m*\u001b[39moverrides)\n\u001b[1;32m--> 175\u001b[0m \u001b[38;5;28;01mraise\u001b[39;00m \u001b[38;5;167;01mIOError\u001b[39;00m(Errors\u001b[38;5;241m.\u001b[39mE050\u001b[38;5;241m.\u001b[39mformat(name\u001b[38;5;241m=\u001b[39mname))\n",
      "\u001b[1;31mOSError\u001b[0m: [E050] Can't find model 'nb_core_news_lg'. It doesn't seem to be a shortcut link, a Python package or a valid path to a data directory."
     ]
    }
   ],
   "source": [
    "nlp = SpacyModel()"
   ]
  },
  {
   "cell_type": "code",
   "execution_count": 48,
   "id": "9de6413f",
   "metadata": {},
   "outputs": [
    {
     "ename": "NameError",
     "evalue": "name 'nlp' is not defined",
     "output_type": "error",
     "traceback": [
      "\u001b[1;31m---------------------------------------------------------------------------\u001b[0m",
      "\u001b[1;31mNameError\u001b[0m                                 Traceback (most recent call last)",
      "Cell \u001b[1;32mIn[48], line 2\u001b[0m\n\u001b[0;32m      1\u001b[0m \u001b[38;5;28;01mfor\u001b[39;00m line \u001b[38;5;129;01min\u001b[39;00m textArray:\n\u001b[1;32m----> 2\u001b[0m     entities \u001b[38;5;241m=\u001b[39m \u001b[43mnlp\u001b[49m\u001b[38;5;241m.\u001b[39mpredict(line)\n\u001b[0;32m      3\u001b[0m     replaced_text_1 \u001b[38;5;241m=\u001b[39m nlp\u001b[38;5;241m.\u001b[39mreplace(line, replacement\u001b[38;5;241m=\u001b[39m\u001b[38;5;124m\"\u001b[39m\u001b[38;5;124mentity\u001b[39m\u001b[38;5;124m\"\u001b[39m, replacement_char\u001b[38;5;241m=\u001b[39m\u001b[38;5;124m\"\u001b[39m\u001b[38;5;124m:^)\u001b[39m\u001b[38;5;124m\"\u001b[39m)\n\u001b[0;32m      4\u001b[0m     \u001b[38;5;28mprint\u001b[39m(line)\n",
      "\u001b[1;31mNameError\u001b[0m: name 'nlp' is not defined"
     ]
    }
   ],
   "source": [
    "for line in textArray:\n",
    "    entities = nlp.predict(line)\n",
    "    replaced_text_1 = nlp.replace(line, replacement=\"entity\", replacement_char=\":^)\")\n",
    "    print(line)\n",
    "    print(replaced_text_1+'\\n')"
   ]
  },
  {
   "cell_type": "code",
   "execution_count": 49,
   "id": "5666c30f",
   "metadata": {},
   "outputs": [
    {
     "ename": "NameError",
     "evalue": "name 'nlp' is not defined",
     "output_type": "error",
     "traceback": [
      "\u001b[1;31m---------------------------------------------------------------------------\u001b[0m",
      "\u001b[1;31mNameError\u001b[0m                                 Traceback (most recent call last)",
      "Cell \u001b[1;32mIn[49], line 1\u001b[0m\n\u001b[1;32m----> 1\u001b[0m \u001b[43mnlp\u001b[49m\u001b[38;5;241m.\u001b[39madd_patterns(lookup\u001b[38;5;241m=\u001b[39m\u001b[38;5;28;01mTrue\u001b[39;00m)\n\u001b[0;32m      2\u001b[0m nlp\u001b[38;5;241m.\u001b[39mprint_regex_labels()\n",
      "\u001b[1;31mNameError\u001b[0m: name 'nlp' is not defined"
     ]
    }
   ],
   "source": [
    "nlp.add_patterns(lookup=True)\n",
    "nlp.print_regex_labels()"
   ]
  },
  {
   "cell_type": "code",
   "execution_count": 50,
   "id": "003fa342",
   "metadata": {},
   "outputs": [
    {
     "ename": "NameError",
     "evalue": "name 'nlp' is not defined",
     "output_type": "error",
     "traceback": [
      "\u001b[1;31m---------------------------------------------------------------------------\u001b[0m",
      "\u001b[1;31mNameError\u001b[0m                                 Traceback (most recent call last)",
      "Cell \u001b[1;32mIn[50], line 2\u001b[0m\n\u001b[0;32m      1\u001b[0m \u001b[38;5;28;01mfor\u001b[39;00m line \u001b[38;5;129;01min\u001b[39;00m textArray:\n\u001b[1;32m----> 2\u001b[0m     entities \u001b[38;5;241m=\u001b[39m \u001b[43mnlp\u001b[49m\u001b[38;5;241m.\u001b[39mpredict(line)\n\u001b[0;32m      3\u001b[0m     replaced_text_1 \u001b[38;5;241m=\u001b[39m nlp\u001b[38;5;241m.\u001b[39mreplace(line, replacement\u001b[38;5;241m=\u001b[39m\u001b[38;5;124m\"\u001b[39m\u001b[38;5;124mentity\u001b[39m\u001b[38;5;124m\"\u001b[39m, replacement_char\u001b[38;5;241m=\u001b[39m\u001b[38;5;124m\"\u001b[39m\u001b[38;5;124m:^)\u001b[39m\u001b[38;5;124m\"\u001b[39m)\n\u001b[0;32m      4\u001b[0m     \u001b[38;5;28mprint\u001b[39m(line)\n",
      "\u001b[1;31mNameError\u001b[0m: name 'nlp' is not defined"
     ]
    }
   ],
   "source": [
    "for line in textArray:\n",
    "    entities = nlp.predict(line)\n",
    "    replaced_text_1 = nlp.replace(line, replacement=\"entity\", replacement_char=\":^)\")\n",
    "    print(line)\n",
    "    print(replaced_text_1+'\\n')"
   ]
  }
 ],
 "metadata": {
  "kernelspec": {
   "display_name": "Python 3 (ipykernel)",
   "language": "python",
   "name": "python3"
  },
  "language_info": {
   "codemirror_mode": {
    "name": "ipython",
    "version": 3
   },
   "file_extension": ".py",
   "mimetype": "text/x-python",
   "name": "python",
   "nbconvert_exporter": "python",
   "pygments_lexer": "ipython3",
   "version": "3.8.17"
  }
 },
 "nbformat": 4,
 "nbformat_minor": 5
}
